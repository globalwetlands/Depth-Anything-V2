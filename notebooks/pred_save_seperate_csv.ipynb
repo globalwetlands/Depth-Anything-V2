{
 "cells": [
  {
   "cell_type": "code",
   "execution_count": 1,
   "id": "76acbb8b-7ae6-433c-b503-82980712dac2",
   "metadata": {},
   "outputs": [],
   "source": [
    "import os\n",
    "import numpy as np\n",
    "import pandas as pd\n",
    "import cv2\n",
    "from pycocotools.coco import COCO\n",
    "from pycocotools import mask as maskUtils"
   ]
  },
  {
   "cell_type": "code",
   "execution_count": 2,
   "id": "d5019f80-837f-4295-9a6e-e49100035717",
   "metadata": {},
   "outputs": [],
   "source": [
    "# Define directories\n",
    "image_directory = '../data/deigo/annotate-frames'  # Original Images\n",
    "depth_map_root_directory = '../data/deigo/depth-maps/'  # Depth Map Images\n",
    "json_file = '../data/deigo/diego-pipe-annotations/annotations/instances_default.json'  # JSON file"
   ]
  },
  {
   "cell_type": "code",
   "execution_count": 3,
   "id": "6562e0e2-265d-471d-8da4-14734906cbaa",
   "metadata": {},
   "outputs": [],
   "source": [
    "# Paths to save results\n",
    "bream_csv_path = '../data/deigo/results_bream_oyster.csv'\n",
    "puffer_csv_path = '../data/deigo/results_puffer_oyster.csv'\n",
    "scat_csv_path = '../data/deigo/results_scat_oyster.csv'"
   ]
  },
  {
   "cell_type": "code",
   "execution_count": 4,
   "id": "f0e33c9f-2057-427c-81d5-34c98dd39ddc",
   "metadata": {},
   "outputs": [],
   "source": [
    "# Mapping of images to their specific depth map directories\n",
    "depth_map_directories = {\n",
    "    'bream_oyster_frame_000001.png': os.path.join(depth_map_root_directory, 'bream-oyster'),\n",
    "    'puffer_oyster_frame_000001.png': os.path.join(depth_map_root_directory, 'puffer-at-night-oyster'),\n",
    "    'scat_oyster_frame_000001.png': os.path.join(depth_map_root_directory, 'scat-oyster-reef-day')\n",
    "}"
   ]
  },
  {
   "cell_type": "code",
   "execution_count": 5,
   "id": "a42a3667-a5fe-49ae-be81-d31eb1f53540",
   "metadata": {},
   "outputs": [
    {
     "name": "stdout",
     "output_type": "stream",
     "text": [
      "loading annotations into memory...\n"
     ]
    },
    {
     "ename": "FileNotFoundError",
     "evalue": "[Errno 2] No such file or directory: '../data/deigo/diego-pipe-annotations/annotations/instances_default.json'",
     "output_type": "error",
     "traceback": [
      "\u001b[0;31m---------------------------------------------------------------------------\u001b[0m",
      "\u001b[0;31mFileNotFoundError\u001b[0m                         Traceback (most recent call last)",
      "Cell \u001b[0;32mIn[5], line 2\u001b[0m\n\u001b[1;32m      1\u001b[0m \u001b[38;5;66;03m# Load the COCO annotations\u001b[39;00m\n\u001b[0;32m----> 2\u001b[0m coco \u001b[38;5;241m=\u001b[39m \u001b[43mCOCO\u001b[49m\u001b[43m(\u001b[49m\u001b[43mjson_file\u001b[49m\u001b[43m)\u001b[49m\n",
      "File \u001b[0;32m~/projects/OceanKind/venv/lib/python3.10/site-packages/pycocotools/coco.py:81\u001b[0m, in \u001b[0;36mCOCO.__init__\u001b[0;34m(self, annotation_file)\u001b[0m\n\u001b[1;32m     79\u001b[0m \u001b[38;5;28mprint\u001b[39m(\u001b[38;5;124m'\u001b[39m\u001b[38;5;124mloading annotations into memory...\u001b[39m\u001b[38;5;124m'\u001b[39m)\n\u001b[1;32m     80\u001b[0m tic \u001b[38;5;241m=\u001b[39m time\u001b[38;5;241m.\u001b[39mtime()\n\u001b[0;32m---> 81\u001b[0m \u001b[38;5;28;01mwith\u001b[39;00m \u001b[38;5;28;43mopen\u001b[39;49m\u001b[43m(\u001b[49m\u001b[43mannotation_file\u001b[49m\u001b[43m,\u001b[49m\u001b[43m \u001b[49m\u001b[38;5;124;43m'\u001b[39;49m\u001b[38;5;124;43mr\u001b[39;49m\u001b[38;5;124;43m'\u001b[39;49m\u001b[43m)\u001b[49m \u001b[38;5;28;01mas\u001b[39;00m f:\n\u001b[1;32m     82\u001b[0m     dataset \u001b[38;5;241m=\u001b[39m json\u001b[38;5;241m.\u001b[39mload(f)\n\u001b[1;32m     83\u001b[0m \u001b[38;5;28;01massert\u001b[39;00m \u001b[38;5;28mtype\u001b[39m(dataset)\u001b[38;5;241m==\u001b[39m\u001b[38;5;28mdict\u001b[39m, \u001b[38;5;124m'\u001b[39m\u001b[38;5;124mannotation file format \u001b[39m\u001b[38;5;132;01m{}\u001b[39;00m\u001b[38;5;124m not supported\u001b[39m\u001b[38;5;124m'\u001b[39m\u001b[38;5;241m.\u001b[39mformat(\u001b[38;5;28mtype\u001b[39m(dataset))\n",
      "\u001b[0;31mFileNotFoundError\u001b[0m: [Errno 2] No such file or directory: '../data/deigo/diego-pipe-annotations/annotations/instances_default.json'"
     ]
    }
   ],
   "source": [
    "# Load the COCO annotations\n",
    "coco = COCO(json_file)"
   ]
  },
  {
   "cell_type": "code",
   "execution_count": null,
   "id": "821de094-7470-45c8-92de-7d8a9f0f95f8",
   "metadata": {},
   "outputs": [],
   "source": [
    "# Create a mapping from category_id to category_name\n",
    "cats = coco.loadCats(coco.getCatIds())\n",
    "category_mapping = {cat['id']: cat['name'] for cat in cats}\n",
    "print(\"Category mapping:\")\n",
    "print(category_mapping)"
   ]
  },
  {
   "cell_type": "code",
   "execution_count": null,
   "id": "5892e320-b784-488c-ab07-a6d41c6b9b86",
   "metadata": {},
   "outputs": [],
   "source": [
    "def load_and_normalize_depth_map(depth_map_path):\n",
    "    # Load the depth map image\n",
    "    depth_map = cv2.imread(depth_map_path, cv2.IMREAD_UNCHANGED)\n",
    "    if depth_map is None:\n",
    "        print(f\"Failed to load depth map at {depth_map_path}.\")\n",
    "        return None\n",
    "\n",
    "    # Normalize the depth map based on its data type\n",
    "    if depth_map.dtype == np.uint8:\n",
    "        # 8-bit depth map\n",
    "        depth_map_normalized = depth_map / 255.0\n",
    "    else:\n",
    "        # If depth map is already in float format between 0 and 1\n",
    "        depth_map_normalized = depth_map\n",
    "\n",
    "    return depth_map_normalized"
   ]
  },
  {
   "cell_type": "code",
   "execution_count": null,
   "id": "5118a5c0-a7aa-48ac-873b-a544b5d810ab",
   "metadata": {},
   "outputs": [],
   "source": [
    "def create_mask_from_annotation(ann, img_height, img_width):\n",
    "    segmentation = ann['segmentation']\n",
    "\n",
    "    if isinstance(segmentation, list):  # Polygon format\n",
    "        mask = np.zeros((img_height, img_width), dtype=np.uint8)\n",
    "        # Convert polygons to a mask\n",
    "        for poly in segmentation:\n",
    "            poly = np.array(poly).reshape((-1, 2))  # Reshape to (N, 2)\n",
    "            cv2.fillPoly(mask, [np.int32(poly)], 1)  # Fill the polygon with 1's\n",
    "\n",
    "    elif isinstance(segmentation, dict) and 'counts' in segmentation:  # RLE format\n",
    "        rle = segmentation\n",
    "        if isinstance(rle['counts'], list):  # Uncompressed RLE\n",
    "            rle = maskUtils.frPyObjects([rle], img_height, img_width)\n",
    "        mask = maskUtils.decode(rle)  # Decode RLE to binary mask\n",
    "\n",
    "    else:\n",
    "        mask = None  # Segmentation format not recognized\n",
    "\n",
    "    return mask"
   ]
  },
  {
   "cell_type": "code",
   "execution_count": 6,
   "id": "8ba18e84-8e4e-46f7-814b-5e8ad7273168",
   "metadata": {},
   "outputs": [],
   "source": [
    "# Lists to store results for each image\n",
    "results_bream = []\n",
    "results_puffer = []\n",
    "results_scat = []"
   ]
  },
  {
   "cell_type": "code",
   "execution_count": 7,
   "id": "6c07736e-31c7-432b-8c83-f7f59809590e",
   "metadata": {},
   "outputs": [
    {
     "ename": "NameError",
     "evalue": "name 'coco' is not defined",
     "output_type": "error",
     "traceback": [
      "\u001b[0;31m---------------------------------------------------------------------------\u001b[0m",
      "\u001b[0;31mNameError\u001b[0m                                 Traceback (most recent call last)",
      "Cell \u001b[0;32mIn[7], line 2\u001b[0m\n\u001b[1;32m      1\u001b[0m \u001b[38;5;66;03m# Get all image IDs\u001b[39;00m\n\u001b[0;32m----> 2\u001b[0m image_ids \u001b[38;5;241m=\u001b[39m \u001b[43mcoco\u001b[49m\u001b[38;5;241m.\u001b[39mgetImgIds()\n\u001b[1;32m      3\u001b[0m \u001b[38;5;28mprint\u001b[39m(\u001b[38;5;124mf\u001b[39m\u001b[38;5;124m\"\u001b[39m\u001b[38;5;124mTotal number of images: \u001b[39m\u001b[38;5;132;01m{\u001b[39;00m\u001b[38;5;28mlen\u001b[39m(image_ids)\u001b[38;5;132;01m}\u001b[39;00m\u001b[38;5;124m\"\u001b[39m)\n",
      "\u001b[0;31mNameError\u001b[0m: name 'coco' is not defined"
     ]
    }
   ],
   "source": [
    "# Get all image IDs\n",
    "image_ids = coco.getImgIds()\n",
    "print(f\"Total number of images: {len(image_ids)}\")"
   ]
  },
  {
   "cell_type": "code",
   "execution_count": 8,
   "id": "cb1d8738-c46b-47d1-9693-95af557cbcf5",
   "metadata": {},
   "outputs": [
    {
     "ename": "NameError",
     "evalue": "name 'image_ids' is not defined",
     "output_type": "error",
     "traceback": [
      "\u001b[0;31m---------------------------------------------------------------------------\u001b[0m",
      "\u001b[0;31mNameError\u001b[0m                                 Traceback (most recent call last)",
      "Cell \u001b[0;32mIn[8], line 2\u001b[0m\n\u001b[1;32m      1\u001b[0m \u001b[38;5;66;03m# Process each image\u001b[39;00m\n\u001b[0;32m----> 2\u001b[0m \u001b[38;5;28;01mfor\u001b[39;00m img_id \u001b[38;5;129;01min\u001b[39;00m \u001b[43mimage_ids\u001b[49m:\n\u001b[1;32m      3\u001b[0m     \u001b[38;5;66;03m# Load image information\u001b[39;00m\n\u001b[1;32m      4\u001b[0m     img_info \u001b[38;5;241m=\u001b[39m coco\u001b[38;5;241m.\u001b[39mloadImgs(img_id)[\u001b[38;5;241m0\u001b[39m]\n\u001b[1;32m      5\u001b[0m     img_name_with_ext \u001b[38;5;241m=\u001b[39m img_info[\u001b[38;5;124m'\u001b[39m\u001b[38;5;124mfile_name\u001b[39m\u001b[38;5;124m'\u001b[39m]  \u001b[38;5;66;03m# e.g., 'bream_oyster_frame_000001.png'\u001b[39;00m\n",
      "\u001b[0;31mNameError\u001b[0m: name 'image_ids' is not defined"
     ]
    }
   ],
   "source": [
    "# Process each image\n",
    "for img_id in image_ids:\n",
    "    # Load image information\n",
    "    img_info = coco.loadImgs(img_id)[0]\n",
    "    img_name_with_ext = img_info['file_name']  # e.g., 'bream_oyster_frame_000001.png'\n",
    "    img_name = os.path.splitext(img_name_with_ext)[0]  # e.g., 'bream_oyster_frame_000001'\n",
    "    img_height = img_info['height']\n",
    "    img_width = img_info['width']\n",
    "\n",
    "    print(f\"\\nProcessing image ID {img_id}, name {img_name_with_ext}\")\n",
    "\n",
    "    # Get annotation IDs for the image\n",
    "    ann_ids = coco.getAnnIds(imgIds=img_id)\n",
    "    anns = coco.loadAnns(ann_ids)\n",
    "\n",
    "    if img_name_with_ext in depth_map_directories:\n",
    "        # For the 3 specific images\n",
    "        depth_map_directory = depth_map_directories[img_name_with_ext]\n",
    "        # Get all depth maps in the directory\n",
    "        depth_map_files = [f for f in os.listdir(depth_map_directory) if f.endswith('_pred04.png')]\n",
    "        if not depth_map_files:\n",
    "            print(f\"No depth maps found in {depth_map_directory} for image {img_name_with_ext}\")\n",
    "            continue\n",
    "\n",
    "        # Process each depth map in the folder\n",
    "        for depth_map_file in depth_map_files:\n",
    "            depth_map_path = os.path.join(depth_map_directory, depth_map_file)\n",
    "            depth_map = load_and_normalize_depth_map(depth_map_path)\n",
    "            if depth_map is None:\n",
    "                continue  # Skip if depth map couldn't be loaded\n",
    "\n",
    "            depth_map_folder_name = os.path.basename(depth_map_directory)\n",
    "            depth_map_file_name = os.path.basename(depth_map_file)\n",
    "            print(f\"Processing depth map: {depth_map_file_name} from folder: {depth_map_folder_name}\")\n",
    "\n",
    "            # Process each annotation\n",
    "            for ann in anns:\n",
    "                annotation_id = ann['id']\n",
    "                category_id = ann['category_id']\n",
    "                category_name = category_mapping.get(category_id, \"Unknown\")\n",
    "                print(f\"Processing annotation ID {annotation_id}, category ID {category_id}, category name {category_name}\")\n",
    "\n",
    "                # Create mask for the annotation\n",
    "                mask = create_mask_from_annotation(ann, img_height, img_width)\n",
    "                if mask is None:\n",
    "                    print(f\"Failed to create mask for annotation {annotation_id}\")\n",
    "                    continue  # Skip if mask couldn't be created\n",
    "\n",
    "                # Resize depth map if necessary\n",
    "                if depth_map.shape != mask.shape:\n",
    "                    depth_map_resized = cv2.resize(depth_map, (img_width, img_height), interpolation=cv2.INTER_NEAREST)\n",
    "                else:\n",
    "                    depth_map_resized = depth_map\n",
    "\n",
    "                # Apply the mask to the depth map to extract depth values\n",
    "                depth_values = depth_map_resized[mask == 1]\n",
    "                mean_depth = depth_values.mean() if depth_values.size > 0 else 0\n",
    "                normalized_depth = mean_depth  # Depth map is already normalized between 0 and 1\n",
    "\n",
    "                # Convert normalized depth to metric depth\n",
    "                zmin = 0.4  # Minimum depth in meters \n",
    "                zmax = 20.0  # Maximum depth in meters\n",
    "                value_metric = (normalized_depth * (zmax - zmin)) + zmin\n",
    "\n",
    "                print(f\"Annotation ID {annotation_id}: mean depth {mean_depth}, normalized depth {normalized_depth}, value_metric {value_metric}\")\n",
    "\n",
    "                # Prepare result dictionary\n",
    "                result = {\n",
    "                    'image_name': img_name_with_ext,\n",
    "                    'image_id': img_id,\n",
    "                    'depth_map_folder': depth_map_folder_name,\n",
    "                    'depth_map_file': depth_map_file_name,\n",
    "                    'annotation_id': annotation_id,\n",
    "                    'category_id': category_id,\n",
    "                    'category_name': category_name,\n",
    "                    'normalized_depth': normalized_depth,\n",
    "                    'z-min': zmin,\n",
    "                    'z-max': zmax,\n",
    "                    'value_metric': value_metric\n",
    "                }\n",
    "\n",
    "                # Append the result to the appropriate list\n",
    "                if img_name_with_ext == 'bream_oyster_frame_000001.png':\n",
    "                    results_bream.append(result)\n",
    "                elif img_name_with_ext == 'puffer_oyster_frame_000001.png':\n",
    "                    results_puffer.append(result)\n",
    "                elif img_name_with_ext == 'scat_oyster_frame_000001.png':\n",
    "                    results_scat.append(result)\n",
    "    else:\n",
    "        # For other images, skip or process as needed\n",
    "        print(f\"Skipping image {img_name_with_ext}, not one of the specified images.\")\n",
    "        continue\n",
    "        \n",
    "# After processing:\n",
    "# Save results for bream oyster\n",
    "if results_bream:\n",
    "    results_bream_df = pd.DataFrame(results_bream)\n",
    "    results_bream_df.to_csv(bream_csv_path, index=False)\n",
    "    print(f\"\\nResults for bream oyster saved to {bream_csv_path}\")\n",
    "else:\n",
    "    print(\"No results for bream oyster.\")\n",
    "\n",
    "# Save results for puffer oyster\n",
    "if results_puffer:\n",
    "    results_puffer_df = pd.DataFrame(results_puffer)\n",
    "    results_puffer_df.to_csv(puffer_csv_path, index=False)\n",
    "    print(f\"\\nResults for puffer oyster saved to {puffer_csv_path}\")\n",
    "else:\n",
    "    print(\"No results for puffer oyster.\")\n",
    "\n",
    "# Save results for scat oyster\n",
    "if results_scat:\n",
    "    results_scat_df = pd.DataFrame(results_scat)\n",
    "    results_scat_df.to_csv(scat_csv_path, index=False)\n",
    "    print(f\"\\nResults for scat oyster saved to {scat_csv_path}\")\n",
    "else:\n",
    "    print(\"No results for scat oyster.\")"
   ]
  },
  {
   "cell_type": "code",
   "execution_count": null,
   "id": "2341de1d-b691-4cb1-ae12-507391828c0c",
   "metadata": {},
   "outputs": [],
   "source": []
  },
  {
   "cell_type": "code",
   "execution_count": null,
   "id": "01da3b07-c029-4999-b4f4-182fd245d436",
   "metadata": {},
   "outputs": [],
   "source": []
  },
  {
   "cell_type": "code",
   "execution_count": null,
   "id": "d5d87f75-c178-4eb2-a282-43481515bedc",
   "metadata": {},
   "outputs": [],
   "source": []
  }
 ],
 "metadata": {
  "kernelspec": {
   "display_name": "Python (venv)",
   "language": "python",
   "name": "venv"
  },
  "language_info": {
   "codemirror_mode": {
    "name": "ipython",
    "version": 3
   },
   "file_extension": ".py",
   "mimetype": "text/x-python",
   "name": "python",
   "nbconvert_exporter": "python",
   "pygments_lexer": "ipython3",
   "version": "3.10.12"
  }
 },
 "nbformat": 4,
 "nbformat_minor": 5
}
