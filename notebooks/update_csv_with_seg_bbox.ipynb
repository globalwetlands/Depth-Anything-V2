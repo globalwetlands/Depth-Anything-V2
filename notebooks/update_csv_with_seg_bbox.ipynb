{
 "cells": [
  {
   "cell_type": "code",
   "execution_count": 17,
   "id": "4bf02aa5-453d-4e86-abc5-db2ad223f9c7",
   "metadata": {},
   "outputs": [],
   "source": [
    "import os\n",
    "import json\n",
    "import pandas as pd\n",
    "from pycocotools.coco import COCO"
   ]
  },
  {
   "cell_type": "code",
   "execution_count": 18,
   "id": "2440f859-5202-4861-a006-68fa0044e53e",
   "metadata": {},
   "outputs": [
    {
     "name": "stdout",
     "output_type": "stream",
     "text": [
      "loading annotations into memory...\n",
      "Done (t=0.00s)\n",
      "creating index...\n",
      "index created!\n"
     ]
    }
   ],
   "source": [
    "# Define file paths\n",
    "csv_file = \"../data/csv/depth-anything-v2-updated-with-annotations-v2.csv\"    # Your CSV file\n",
    "json_file = '../data/depth-anything-v2-set2/annotations/instances_default.json'  # Your JSON file\n",
    "\n",
    "# Load the CSV file into a DataFrame\n",
    "csv_data = pd.read_csv(csv_file)\n",
    "\n",
    "# Load the COCO annotations\n",
    "coco = COCO(json_file)\n"
   ]
  },
  {
   "cell_type": "code",
   "execution_count": 19,
   "id": "78d00f9b-be60-4975-979b-f01ddbc0a3b2",
   "metadata": {},
   "outputs": [],
   "source": [
    "# Create a mapping from (image_id, annotation_id) to annotation data\n",
    "annotations = coco.loadAnns(coco.getAnnIds())\n",
    "annotation_mapping = {}\n",
    "\n",
    "for ann in annotations:\n",
    "    key = (ann['image_id'], ann['id'])  # Tuple of image_id and annotation_id\n",
    "    annotation_mapping[key] = ann  # Store the entire annotation\n"
   ]
  },
  {
   "cell_type": "code",
   "execution_count": 20,
   "id": "bca7aeb0-841e-4a2e-9db8-b35fd589d6d3",
   "metadata": {},
   "outputs": [],
   "source": [
    "# Ensure the new columns exist\n",
    "csv_data['segmentation'] = None\n",
    "csv_data['bbox'] = None\n",
    "\n",
    "# Iterate over each row in the CSV DataFrame\n",
    "for index, row in csv_data.iterrows():\n",
    "    image_name = row['image_name']\n",
    "    annotation_id = row['annotation_id']\n",
    "    image_id = row['image_id']\n",
    "    \n",
    "    # Convert to integer if necessary\n",
    "    if isinstance(annotation_id, float):\n",
    "        annotation_id = int(annotation_id)\n",
    "    if isinstance(image_id, float):\n",
    "        image_id = int(image_id)\n",
    "    \n",
    "    # Create the key for annotation mapping\n",
    "    key = (image_id, annotation_id)\n",
    "    \n",
    "    # Check if the key exists in the annotation mapping\n",
    "    if key in annotation_mapping:\n",
    "        ann = annotation_mapping[key]\n",
    "        # Assign segmentation and bbox to the DataFrame\n",
    "        csv_data.at[index, 'segmentation'] = json.dumps(ann['segmentation'])\n",
    "        csv_data.at[index, 'bbox'] = ann['bbox']\n",
    "    else:\n",
    "        print(f\"Annotation not found for image_name: {image_name}, image_id: {image_id}, annotation_id: {annotation_id}\")\n"
   ]
  },
  {
   "cell_type": "code",
   "execution_count": 21,
   "id": "02769925-1132-40d6-bf6c-8396a7ffb465",
   "metadata": {},
   "outputs": [
    {
     "name": "stdout",
     "output_type": "stream",
     "text": [
      "Updated CSV file saved to ../data/csv/depth-anything-v2-updated-with-annotations-v2.csv\n"
     ]
    }
   ],
   "source": [
    "# Save the updated DataFrame to a new CSV file\n",
    "output_csv_file = \"../data/csv/depth-anything-v2-updated-with-annotations-v2.csv\"\n",
    "csv_data.to_csv(output_csv_file, index=False)\n",
    "\n",
    "print(f\"Updated CSV file saved to {output_csv_file}\")\n"
   ]
  },
  {
   "cell_type": "code",
   "execution_count": null,
   "id": "4c2ce490-4566-407e-9b66-437150ae14f7",
   "metadata": {},
   "outputs": [],
   "source": []
  }
 ],
 "metadata": {
  "kernelspec": {
   "display_name": "Python (venv)",
   "language": "python",
   "name": "venv"
  },
  "language_info": {
   "codemirror_mode": {
    "name": "ipython",
    "version": 3
   },
   "file_extension": ".py",
   "mimetype": "text/x-python",
   "name": "python",
   "nbconvert_exporter": "python",
   "pygments_lexer": "ipython3",
   "version": "3.10.12"
  }
 },
 "nbformat": 4,
 "nbformat_minor": 5
}
