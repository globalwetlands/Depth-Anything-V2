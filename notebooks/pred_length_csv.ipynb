{
 "cells": [
  {
   "cell_type": "code",
   "execution_count": 16,
   "id": "6416bce2-f3f4-4979-80ec-d393ead86bb6",
   "metadata": {},
   "outputs": [],
   "source": [
    "import os\n",
    "import numpy as np\n",
    "import pandas as pd\n",
    "import cv2\n",
    "from pycocotools.coco import COCO\n",
    "from pycocotools import mask as maskUtils\n",
    "\n",
    "# Define directories\n",
    "image_directory = '../data/fish-behaviour/annotations/images/'  # Original Images\n",
    "depth_map_directory = '../data/fish-behaviour/depth-maps/'  # Depth Map Images\n",
    "mask_directory = '../data/fish-behaviour/masks/'    # Directory to save masks\n",
    "json_file = '../data/fish-behaviour/annotations/annotations/instances_default.json'  # JSON file\n",
    "\n",
    "# Create mask directory if it doesn't exist\n",
    "os.makedirs(mask_directory, exist_ok=True)\n",
    "\n",
    "# Load the COCO annotations\n",
    "coco = COCO(json_file)"
   ]
  },
  {
   "cell_type": "code",
   "execution_count": 17,
   "id": "ebf83708-b9f9-4e13-afeb-136d7b16415c",
   "metadata": {},
   "outputs": [],
   "source": [
    "# Change Model Path\n",
    "MODEL = \"hypersim\"\n",
    "ENCODER = \"vitl\""
   ]
  },
  {
   "cell_type": "code",
   "execution_count": 18,
   "id": "47602596-93ea-4c74-b853-7b79a5408cd1",
   "metadata": {},
   "outputs": [],
   "source": [
    "# Define directories\n",
    "image_directory = '../data/fish-behaviour/annotations/images/'  # Original Images\n",
    "depth_map_directory = '../data/fish-behaviour/depth-maps/'  # Depth Map Images from V1\n",
    "mask_directory = '../data/fish-behaviour/masks/'    # Directory to save masks\n",
    "csv_file = \"../data/fish-behaviour/fish-behaviour.csv\"  # CSV file\n",
    "json_file = '../data/fish-behaviour/annotations/annotations/instances_default.json'  # JSON file\n",
    "\n",
    "# Create mask directory if it doesn't exist\n",
    "os.makedirs(mask_directory, exist_ok=True)"
   ]
  },
  {
   "cell_type": "code",
   "execution_count": 19,
   "id": "ab3f8aa3-ade1-4284-97cf-41a7f8b7b34f",
   "metadata": {},
   "outputs": [
    {
     "name": "stdout",
     "output_type": "stream",
     "text": [
      "loading annotations into memory...\n",
      "Done (t=0.01s)\n",
      "creating index...\n",
      "index created!\n",
      "Data from CSV:\n",
      "Empty DataFrame\n",
      "Columns: [test]\n",
      "Index: []\n"
     ]
    }
   ],
   "source": [
    "# Load the COCO annotations\n",
    "coco = COCO(json_file)\n",
    "\n",
    "# Load the CSV file\n",
    "data = pd.read_csv(csv_file)\n",
    "\n",
    "# Display the first few rows of the DataFrame\n",
    "print(\"Data from CSV:\")\n",
    "print(data.head())"
   ]
  },
  {
   "cell_type": "code",
   "execution_count": 20,
   "id": "dd299996-e502-4c01-a982-e56035c69740",
   "metadata": {},
   "outputs": [
    {
     "ename": "KeyError",
     "evalue": "'image_name'",
     "output_type": "error",
     "traceback": [
      "\u001b[0;31m---------------------------------------------------------------------------\u001b[0m",
      "\u001b[0;31mKeyError\u001b[0m                                  Traceback (most recent call last)",
      "File \u001b[0;32m~/projects/OceanKind/venv/lib/python3.10/site-packages/pandas/core/indexes/base.py:3805\u001b[0m, in \u001b[0;36mIndex.get_loc\u001b[0;34m(self, key)\u001b[0m\n\u001b[1;32m   3804\u001b[0m \u001b[38;5;28;01mtry\u001b[39;00m:\n\u001b[0;32m-> 3805\u001b[0m     \u001b[38;5;28;01mreturn\u001b[39;00m \u001b[38;5;28;43mself\u001b[39;49m\u001b[38;5;241;43m.\u001b[39;49m\u001b[43m_engine\u001b[49m\u001b[38;5;241;43m.\u001b[39;49m\u001b[43mget_loc\u001b[49m\u001b[43m(\u001b[49m\u001b[43mcasted_key\u001b[49m\u001b[43m)\u001b[49m\n\u001b[1;32m   3806\u001b[0m \u001b[38;5;28;01mexcept\u001b[39;00m \u001b[38;5;167;01mKeyError\u001b[39;00m \u001b[38;5;28;01mas\u001b[39;00m err:\n",
      "File \u001b[0;32mindex.pyx:167\u001b[0m, in \u001b[0;36mpandas._libs.index.IndexEngine.get_loc\u001b[0;34m()\u001b[0m\n",
      "File \u001b[0;32mindex.pyx:196\u001b[0m, in \u001b[0;36mpandas._libs.index.IndexEngine.get_loc\u001b[0;34m()\u001b[0m\n",
      "File \u001b[0;32mpandas/_libs/hashtable_class_helper.pxi:7081\u001b[0m, in \u001b[0;36mpandas._libs.hashtable.PyObjectHashTable.get_item\u001b[0;34m()\u001b[0m\n",
      "File \u001b[0;32mpandas/_libs/hashtable_class_helper.pxi:7089\u001b[0m, in \u001b[0;36mpandas._libs.hashtable.PyObjectHashTable.get_item\u001b[0;34m()\u001b[0m\n",
      "\u001b[0;31mKeyError\u001b[0m: 'image_name'",
      "\nThe above exception was the direct cause of the following exception:\n",
      "\u001b[0;31mKeyError\u001b[0m                                  Traceback (most recent call last)",
      "Cell \u001b[0;32mIn[20], line 2\u001b[0m\n\u001b[1;32m      1\u001b[0m \u001b[38;5;66;03m# Create a mapping from image base name (without extension) to frame number\u001b[39;00m\n\u001b[0;32m----> 2\u001b[0m data[\u001b[38;5;124m'\u001b[39m\u001b[38;5;124mimage_base_name\u001b[39m\u001b[38;5;124m'\u001b[39m] \u001b[38;5;241m=\u001b[39m \u001b[43mdata\u001b[49m\u001b[43m[\u001b[49m\u001b[38;5;124;43m'\u001b[39;49m\u001b[38;5;124;43mimage_name\u001b[39;49m\u001b[38;5;124;43m'\u001b[39;49m\u001b[43m]\u001b[49m\u001b[38;5;241m.\u001b[39mapply(\u001b[38;5;28;01mlambda\u001b[39;00m x: os\u001b[38;5;241m.\u001b[39mpath\u001b[38;5;241m.\u001b[39msplitext(x)[\u001b[38;5;241m0\u001b[39m])\n\u001b[1;32m      3\u001b[0m image_frame_mapping \u001b[38;5;241m=\u001b[39m data\u001b[38;5;241m.\u001b[39mset_index(\u001b[38;5;124m'\u001b[39m\u001b[38;5;124mimage_base_name\u001b[39m\u001b[38;5;124m'\u001b[39m)[\u001b[38;5;124m'\u001b[39m\u001b[38;5;124mframe\u001b[39m\u001b[38;5;124m'\u001b[39m]\u001b[38;5;241m.\u001b[39mto_dict()\n",
      "File \u001b[0;32m~/projects/OceanKind/venv/lib/python3.10/site-packages/pandas/core/frame.py:4090\u001b[0m, in \u001b[0;36mDataFrame.__getitem__\u001b[0;34m(self, key)\u001b[0m\n\u001b[1;32m   4088\u001b[0m \u001b[38;5;28;01mif\u001b[39;00m \u001b[38;5;28mself\u001b[39m\u001b[38;5;241m.\u001b[39mcolumns\u001b[38;5;241m.\u001b[39mnlevels \u001b[38;5;241m>\u001b[39m \u001b[38;5;241m1\u001b[39m:\n\u001b[1;32m   4089\u001b[0m     \u001b[38;5;28;01mreturn\u001b[39;00m \u001b[38;5;28mself\u001b[39m\u001b[38;5;241m.\u001b[39m_getitem_multilevel(key)\n\u001b[0;32m-> 4090\u001b[0m indexer \u001b[38;5;241m=\u001b[39m \u001b[38;5;28;43mself\u001b[39;49m\u001b[38;5;241;43m.\u001b[39;49m\u001b[43mcolumns\u001b[49m\u001b[38;5;241;43m.\u001b[39;49m\u001b[43mget_loc\u001b[49m\u001b[43m(\u001b[49m\u001b[43mkey\u001b[49m\u001b[43m)\u001b[49m\n\u001b[1;32m   4091\u001b[0m \u001b[38;5;28;01mif\u001b[39;00m is_integer(indexer):\n\u001b[1;32m   4092\u001b[0m     indexer \u001b[38;5;241m=\u001b[39m [indexer]\n",
      "File \u001b[0;32m~/projects/OceanKind/venv/lib/python3.10/site-packages/pandas/core/indexes/base.py:3812\u001b[0m, in \u001b[0;36mIndex.get_loc\u001b[0;34m(self, key)\u001b[0m\n\u001b[1;32m   3807\u001b[0m     \u001b[38;5;28;01mif\u001b[39;00m \u001b[38;5;28misinstance\u001b[39m(casted_key, \u001b[38;5;28mslice\u001b[39m) \u001b[38;5;129;01mor\u001b[39;00m (\n\u001b[1;32m   3808\u001b[0m         \u001b[38;5;28misinstance\u001b[39m(casted_key, abc\u001b[38;5;241m.\u001b[39mIterable)\n\u001b[1;32m   3809\u001b[0m         \u001b[38;5;129;01mand\u001b[39;00m \u001b[38;5;28many\u001b[39m(\u001b[38;5;28misinstance\u001b[39m(x, \u001b[38;5;28mslice\u001b[39m) \u001b[38;5;28;01mfor\u001b[39;00m x \u001b[38;5;129;01min\u001b[39;00m casted_key)\n\u001b[1;32m   3810\u001b[0m     ):\n\u001b[1;32m   3811\u001b[0m         \u001b[38;5;28;01mraise\u001b[39;00m InvalidIndexError(key)\n\u001b[0;32m-> 3812\u001b[0m     \u001b[38;5;28;01mraise\u001b[39;00m \u001b[38;5;167;01mKeyError\u001b[39;00m(key) \u001b[38;5;28;01mfrom\u001b[39;00m \u001b[38;5;21;01merr\u001b[39;00m\n\u001b[1;32m   3813\u001b[0m \u001b[38;5;28;01mexcept\u001b[39;00m \u001b[38;5;167;01mTypeError\u001b[39;00m:\n\u001b[1;32m   3814\u001b[0m     \u001b[38;5;66;03m# If we have a listlike key, _check_indexing_error will raise\u001b[39;00m\n\u001b[1;32m   3815\u001b[0m     \u001b[38;5;66;03m#  InvalidIndexError. Otherwise we fall through and re-raise\u001b[39;00m\n\u001b[1;32m   3816\u001b[0m     \u001b[38;5;66;03m#  the TypeError.\u001b[39;00m\n\u001b[1;32m   3817\u001b[0m     \u001b[38;5;28mself\u001b[39m\u001b[38;5;241m.\u001b[39m_check_indexing_error(key)\n",
      "\u001b[0;31mKeyError\u001b[0m: 'image_name'"
     ]
    }
   ],
   "source": [
    "# Create a mapping from image base name (without extension) to frame number\n",
    "data['image_base_name'] = data['image_name'].apply(lambda x: os.path.splitext(x)[0])\n",
    "image_frame_mapping = data.set_index('image_base_name')['frame'].to_dict()\n"
   ]
  },
  {
   "cell_type": "code",
   "execution_count": 21,
   "id": "574df4e8-d381-4b69-b1d9-8c3abf940a56",
   "metadata": {},
   "outputs": [
    {
     "name": "stdout",
     "output_type": "stream",
     "text": [
      "Keys in image_frame_mapping:\n"
     ]
    },
    {
     "ename": "NameError",
     "evalue": "name 'image_frame_mapping' is not defined",
     "output_type": "error",
     "traceback": [
      "\u001b[0;31m---------------------------------------------------------------------------\u001b[0m",
      "\u001b[0;31mNameError\u001b[0m                                 Traceback (most recent call last)",
      "Cell \u001b[0;32mIn[21], line 3\u001b[0m\n\u001b[1;32m      1\u001b[0m \u001b[38;5;66;03m# For debugging, print out the keys of image_frame_mapping\u001b[39;00m\n\u001b[1;32m      2\u001b[0m \u001b[38;5;28mprint\u001b[39m(\u001b[38;5;124m\"\u001b[39m\u001b[38;5;124mKeys in image_frame_mapping:\u001b[39m\u001b[38;5;124m\"\u001b[39m)\n\u001b[0;32m----> 3\u001b[0m \u001b[38;5;28mprint\u001b[39m(\u001b[38;5;28mlist\u001b[39m(\u001b[43mimage_frame_mapping\u001b[49m\u001b[38;5;241m.\u001b[39mkeys())[:\u001b[38;5;241m5\u001b[39m])\n",
      "\u001b[0;31mNameError\u001b[0m: name 'image_frame_mapping' is not defined"
     ]
    }
   ],
   "source": [
    "# For debugging, print out the keys of image_frame_mapping\n",
    "print(\"Keys in image_frame_mapping:\")\n",
    "print(list(image_frame_mapping.keys())[:5])"
   ]
  },
  {
   "cell_type": "code",
   "execution_count": 12,
   "id": "e425c05d-5afd-47df-aa60-da3f22f8706f",
   "metadata": {},
   "outputs": [],
   "source": [
    "def load_depth_map(img_name):\n",
    "    # Construct the depth map filename\n",
    "    depth_map_filename = f\"{img_name}_pred04.png\"\n",
    "    depth_map_path = os.path.join(depth_map_directory, depth_map_filename)\n",
    "    \n",
    "    # Check if the depth map exists\n",
    "    if not os.path.exists(depth_map_path):\n",
    "        print(f\"Depth map for image {img_name} not found at {depth_map_path}.\")\n",
    "        return None\n",
    "    \n",
    "    # Load the depth map image\n",
    "    depth_map = cv2.imread(depth_map_path, cv2.IMREAD_GRAYSCALE)\n",
    "    if depth_map is None:\n",
    "        print(f\"Failed to load depth map for image {img_name}.\")\n",
    "        return None\n",
    "    \n",
    "    return depth_map"
   ]
  },
  {
   "cell_type": "code",
   "execution_count": 13,
   "id": "f79c4501-8899-430f-a840-9c5cb7d73b9f",
   "metadata": {},
   "outputs": [],
   "source": [
    "def create_mask_from_annotation(ann, img_height, img_width):\n",
    "    segmentation = ann['segmentation']\n",
    "    \n",
    "    if isinstance(segmentation, list):  # Polygon format\n",
    "        mask = np.zeros((img_height, img_width), dtype=np.uint8)\n",
    "        # Convert polygons to a mask\n",
    "        for poly in segmentation:\n",
    "            poly = np.array(poly).reshape((-1, 2))  # Reshape to (N, 2)\n",
    "            cv2.fillPoly(mask, [np.int32(poly)], 1)  # Fill the polygon with 1's\n",
    "\n",
    "    elif isinstance(segmentation, dict) and 'counts' in segmentation:  # RLE format\n",
    "        rle = segmentation\n",
    "        if isinstance(rle['counts'], list):  # Uncompressed RLE\n",
    "            rle = maskUtils.frPyObjects([rle], img_height, img_width)\n",
    "        mask = maskUtils.decode(rle)  # Decode RLE to binary mask\n",
    "\n",
    "    else:\n",
    "        mask = None  # Segmentation format not recognized\n",
    "\n",
    "    return mask"
   ]
  },
  {
   "cell_type": "code",
   "execution_count": 14,
   "id": "e9a47aff-83dd-4fdf-a744-a556b061fa2d",
   "metadata": {},
   "outputs": [
    {
     "ename": "NameError",
     "evalue": "name 'image_frame_mapping' is not defined",
     "output_type": "error",
     "traceback": [
      "\u001b[0;31m---------------------------------------------------------------------------\u001b[0m",
      "\u001b[0;31mNameError\u001b[0m                                 Traceback (most recent call last)",
      "Cell \u001b[0;32mIn[14], line 22\u001b[0m\n\u001b[1;32m     19\u001b[0m     \u001b[38;5;28;01mcontinue\u001b[39;00m  \u001b[38;5;66;03m# Skip if depth map is not available\u001b[39;00m\n\u001b[1;32m     21\u001b[0m \u001b[38;5;66;03m# Get the frame number from the image_frame_mapping\u001b[39;00m\n\u001b[0;32m---> 22\u001b[0m frame \u001b[38;5;241m=\u001b[39m \u001b[43mimage_frame_mapping\u001b[49m\u001b[38;5;241m.\u001b[39mget(img_name_with_ext, \u001b[38;5;28;01mNone\u001b[39;00m)\n\u001b[1;32m     24\u001b[0m \u001b[38;5;66;03m# Get annotation IDs for the image\u001b[39;00m\n\u001b[1;32m     25\u001b[0m ann_ids \u001b[38;5;241m=\u001b[39m coco\u001b[38;5;241m.\u001b[39mgetAnnIds(imgIds\u001b[38;5;241m=\u001b[39mimg_id)\n",
      "\u001b[0;31mNameError\u001b[0m: name 'image_frame_mapping' is not defined"
     ]
    }
   ],
   "source": [
    "# List to store results\n",
    "results = []\n",
    "\n",
    "# Get all image IDs\n",
    "image_ids = coco.getImgIds()\n",
    "print(f\"Total number of images: {len(image_ids)}\")\n",
    "\n",
    "# Process each image\n",
    "for img_id in image_ids:\n",
    "    # Load image information\n",
    "    img_info = coco.loadImgs(img_id)[0]\n",
    "    img_name_with_ext = img_info['file_name']  # e.g., 'frame_000001.png'\n",
    "    img_name = os.path.splitext(img_name_with_ext)[0]  # e.g., 'frame_000001'\n",
    "    img_height = img_info['height']\n",
    "    img_width = img_info['width']\n",
    "    \n",
    "    print(f\"Processing image ID {img_id}, name {img_name_with_ext}\")\n",
    "\n",
    "    # Load depth map\n",
    "    depth_map = load_depth_map(img_name)\n",
    "    if depth_map is None:\n",
    "        print(f\"Skipping image {img_name_with_ext} due to missing depth map.\")\n",
    "        continue  # Skip if depth map is not available\n",
    "    \n",
    "    # Get the frame number from the image_frame_mapping\n",
    "    frame = image_frame_mapping.get(img_name, None)\n",
    "    if frame is None:\n",
    "        print(f\"Frame number not found for image {img_name_with_ext}.\")\n",
    "    else:\n",
    "        print(f\"Frame number for image {img_name_with_ext}: {frame}\")\n",
    "    \n",
    "    # Get annotation IDs for the image\n",
    "    ann_ids = coco.getAnnIds(imgIds=img_id)\n",
    "    anns = coco.loadAnns(ann_ids)\n",
    "    \n",
    "    print(f\"Number of annotations for image {img_name_with_ext}: {len(anns)}\")\n",
    "    \n",
    "    # Process each annotation\n",
    "    for ann in anns:\n",
    "        annotation_id = ann['id']\n",
    "        category_id = ann['category_id']\n",
    "        print(f\"Processing annotation ID {annotation_id}, category ID {category_id}\")\n",
    "        \n",
    "        # Create mask for the annotation\n",
    "        mask = create_mask_from_annotation(ann, img_height, img_width)\n",
    "        if mask is None:\n",
    "            print(f\"Failed to create mask for annotation {annotation_id}\")\n",
    "            continue  # Skip if mask couldn't be created\n",
    "        \n",
    "        # Apply the mask to the depth map to extract depth values\n",
    "        depth_values = depth_map[mask == 1]\n",
    "        mean_depth = depth_values.mean() if depth_values.size > 0 else 0\n",
    "        normalized_depth = mean_depth / 255  # Assuming 8-bit depth map\n",
    "        \n",
    "        # Convert normalized depth to metric depth\n",
    "        zmin = 0.4  # Minimum depth in meters\n",
    "        zmax = 20.0  # Maximum depth in meters\n",
    "        value_metric = (normalized_depth * (zmax - zmin)) + zmin\n",
    "        \n",
    "        print(f\"Annotation ID {annotation_id}: mean depth {mean_depth}, normalized depth {normalized_depth}, value_metric {value_metric}\")\n",
    "        \n",
    "        # Append the result to the list\n",
    "        results.append({\n",
    "            'model': \"indoor\",\n",
    "            'image_name': img_name_with_ext,\n",
    "            'image_id': img_id,\n",
    "            'annotation_id': annotation_id,\n",
    "            'frame': frame,\n",
    "            'category_id': category_id,\n",
    "            'normalized_depth': normalized_depth,\n",
    "            'z-min': zmin,\n",
    "            'z-max': zmax,\n",
    "            'value_metric': value_metric\n",
    "        })"
   ]
  },
  {
   "cell_type": "code",
   "execution_count": 15,
   "id": "3e3914e1-2846-4a68-b3e5-29302168a83d",
   "metadata": {},
   "outputs": [
    {
     "data": {
      "text/html": [
       "<div>\n",
       "<style scoped>\n",
       "    .dataframe tbody tr th:only-of-type {\n",
       "        vertical-align: middle;\n",
       "    }\n",
       "\n",
       "    .dataframe tbody tr th {\n",
       "        vertical-align: top;\n",
       "    }\n",
       "\n",
       "    .dataframe thead th {\n",
       "        text-align: right;\n",
       "    }\n",
       "</style>\n",
       "<table border=\"1\" class=\"dataframe\">\n",
       "  <thead>\n",
       "    <tr style=\"text-align: right;\">\n",
       "      <th></th>\n",
       "    </tr>\n",
       "  </thead>\n",
       "  <tbody>\n",
       "  </tbody>\n",
       "</table>\n",
       "</div>"
      ],
      "text/plain": [
       "Empty DataFrame\n",
       "Columns: []\n",
       "Index: []"
      ]
     },
     "execution_count": 15,
     "metadata": {},
     "output_type": "execute_result"
    }
   ],
   "source": [
    "# Create a DataFrame from the results\n",
    "results_df = pd.DataFrame(results)\n",
    "\n",
    "# Display the DataFrame\n",
    "print(\"Results DataFrame:\")\n",
    "print(results_df.head()"
   ]
  },
  {
   "cell_type": "code",
   "execution_count": 142,
   "id": "9f88b1da-b766-4c3e-a2dd-499c3116cca3",
   "metadata": {},
   "outputs": [],
   "source": [
    "# Save the results to a CSV file\n",
    "results_df.to_csv(f'../data/fish-behaviour/fish-behaviour.csv', index=False)"
   ]
  },
  {
   "cell_type": "code",
   "execution_count": null,
   "id": "60cf90b9-4012-4280-92e3-e647186a94ee",
   "metadata": {},
   "outputs": [],
   "source": []
  },
  {
   "cell_type": "code",
   "execution_count": null,
   "id": "ab39e70b-9fce-4e7e-80e1-acb942644f4a",
   "metadata": {},
   "outputs": [],
   "source": []
  }
 ],
 "metadata": {
  "kernelspec": {
   "display_name": "Python (venv)",
   "language": "python",
   "name": "venv"
  },
  "language_info": {
   "codemirror_mode": {
    "name": "ipython",
    "version": 3
   },
   "file_extension": ".py",
   "mimetype": "text/x-python",
   "name": "python",
   "nbconvert_exporter": "python",
   "pygments_lexer": "ipython3",
   "version": "3.10.12"
  }
 },
 "nbformat": 4,
 "nbformat_minor": 5
}
