{
 "cells": [
  {
   "cell_type": "code",
   "execution_count": 1,
   "id": "c00b1f92-8a0f-412c-bc6a-b91240365731",
   "metadata": {},
   "outputs": [],
   "source": [
    "# Import Libraries\n",
    "import pandas as pd\n",
    "import numpy as np\n",
    "from PIL import Image\n",
    "import matplotlib.pyplot as plt\n",
    "import pycocotools\n",
    "from pycocotools.coco import COCO\n",
    "from pycocotools import mask as maskUtils\n",
    "import cv2\n",
    "import os"
   ]
  },
  {
   "cell_type": "code",
   "execution_count": 2,
   "id": "b4bdd13b-901a-4bce-be75-1e4690af522e",
   "metadata": {},
   "outputs": [
    {
     "data": {
      "text/plain": [
       "'/home/shakyafernando/projects/depth-anything-V2/notebooks'"
      ]
     },
     "execution_count": 2,
     "metadata": {},
     "output_type": "execute_result"
    }
   ],
   "source": [
    "pwd"
   ]
  },
  {
   "cell_type": "code",
   "execution_count": 3,
   "id": "d84386b5-ee3b-405b-a2a7-f1fe3f9943ed",
   "metadata": {},
   "outputs": [
    {
     "name": "stdout",
     "output_type": "stream",
     "text": [
      "loading annotations into memory...\n"
     ]
    },
    {
     "ename": "FileNotFoundError",
     "evalue": "[Errno 2] No such file or directory: '../data/depth-anything-v2-set2/annotations/instances_default.json'",
     "output_type": "error",
     "traceback": [
      "\u001b[0;31m---------------------------------------------------------------------------\u001b[0m",
      "\u001b[0;31mFileNotFoundError\u001b[0m                         Traceback (most recent call last)",
      "Cell \u001b[0;32mIn[3], line 7\u001b[0m\n\u001b[1;32m      4\u001b[0m csv_file \u001b[38;5;241m=\u001b[39m \u001b[38;5;124m\"\u001b[39m\u001b[38;5;124m../data/csv/depth-anything-v2-updated-with-annotations.csv\u001b[39m\u001b[38;5;124m\"\u001b[39m \u001b[38;5;66;03m# CSV file\u001b[39;00m\n\u001b[1;32m      6\u001b[0m \u001b[38;5;66;03m# Load the JSON file\u001b[39;00m\n\u001b[0;32m----> 7\u001b[0m coco \u001b[38;5;241m=\u001b[39m \u001b[43mCOCO\u001b[49m\u001b[43m(\u001b[49m\u001b[38;5;124;43m'\u001b[39;49m\u001b[38;5;124;43m../data/depth-anything-v2-set2/annotations/instances_default.json\u001b[39;49m\u001b[38;5;124;43m'\u001b[39;49m\u001b[43m)\u001b[49m \u001b[38;5;66;03m# .json file\u001b[39;00m\n\u001b[1;32m      9\u001b[0m os\u001b[38;5;241m.\u001b[39mmakedirs(mask_directory, exist_ok\u001b[38;5;241m=\u001b[39m\u001b[38;5;28;01mTrue\u001b[39;00m)\n",
      "File \u001b[0;32m~/projects/OceanKind/venv/lib/python3.10/site-packages/pycocotools/coco.py:81\u001b[0m, in \u001b[0;36mCOCO.__init__\u001b[0;34m(self, annotation_file)\u001b[0m\n\u001b[1;32m     79\u001b[0m \u001b[38;5;28mprint\u001b[39m(\u001b[38;5;124m'\u001b[39m\u001b[38;5;124mloading annotations into memory...\u001b[39m\u001b[38;5;124m'\u001b[39m)\n\u001b[1;32m     80\u001b[0m tic \u001b[38;5;241m=\u001b[39m time\u001b[38;5;241m.\u001b[39mtime()\n\u001b[0;32m---> 81\u001b[0m \u001b[38;5;28;01mwith\u001b[39;00m \u001b[38;5;28;43mopen\u001b[39;49m\u001b[43m(\u001b[49m\u001b[43mannotation_file\u001b[49m\u001b[43m,\u001b[49m\u001b[43m \u001b[49m\u001b[38;5;124;43m'\u001b[39;49m\u001b[38;5;124;43mr\u001b[39;49m\u001b[38;5;124;43m'\u001b[39;49m\u001b[43m)\u001b[49m \u001b[38;5;28;01mas\u001b[39;00m f:\n\u001b[1;32m     82\u001b[0m     dataset \u001b[38;5;241m=\u001b[39m json\u001b[38;5;241m.\u001b[39mload(f)\n\u001b[1;32m     83\u001b[0m \u001b[38;5;28;01massert\u001b[39;00m \u001b[38;5;28mtype\u001b[39m(dataset)\u001b[38;5;241m==\u001b[39m\u001b[38;5;28mdict\u001b[39m, \u001b[38;5;124m'\u001b[39m\u001b[38;5;124mannotation file format \u001b[39m\u001b[38;5;132;01m{}\u001b[39;00m\u001b[38;5;124m not supported\u001b[39m\u001b[38;5;124m'\u001b[39m\u001b[38;5;241m.\u001b[39mformat(\u001b[38;5;28mtype\u001b[39m(dataset))\n",
      "\u001b[0;31mFileNotFoundError\u001b[0m: [Errno 2] No such file or directory: '../data/depth-anything-v2-set2/annotations/instances_default.json'"
     ]
    }
   ],
   "source": [
    "# Define directories\n",
    "image_directory = '../data/depth-anything-v2-set2/images/' # Original Images\n",
    "mask_directory = '../data/depth-anything-v2-set2/masks/' # Saved masks\n",
    "csv_file = \"../data/csv/depth-anything-v2-updated-with-annotations.csv\" # CSV file\n",
    "\n",
    "# Load the JSON file\n",
    "coco = COCO('../data/depth-anything-v2-set2/annotations/instances_default.json') # .json file\n",
    "\n",
    "os.makedirs(mask_directory, exist_ok=True)"
   ]
  },
  {
   "cell_type": "code",
   "execution_count": null,
   "id": "39aff14f-ff86-483a-b012-5e766ed1ec61",
   "metadata": {},
   "outputs": [],
   "source": [
    "# Load the CSV file\n",
    "data = pd.read_csv(csv_file)\n",
    "data.head(5)\n",
    "# list(data.columns)"
   ]
  },
  {
   "cell_type": "code",
   "execution_count": null,
   "id": "8b4f3456-5dc8-41f3-8e26-0b14dc295b08",
   "metadata": {},
   "outputs": [],
   "source": [
    "# Function to create a color mask\n",
    "def apply_color_mask(mask, color):\n",
    "    \"\"\"\n",
    "    Apply the given color to the mask.\n",
    "    Parameters:\n",
    "    mask : 2D numpy array\n",
    "        Binary mask with 0s and 1s.\n",
    "    color : tuple\n",
    "        RGB tuple (e.g., (255, 0, 0) for red).\n",
    "    \n",
    "    Returns:\n",
    "    3D numpy array\n",
    "        Colored mask.\n",
    "    \"\"\"\n",
    "    color_mask = np.zeros((*mask.shape, 3), dtype=np.uint8)\n",
    "    for i in range(3):  # Apply color to each channel\n",
    "        color_mask[:, :, i] = mask * color[i]\n",
    "    return color_mask"
   ]
  },
  {
   "cell_type": "code",
   "execution_count": null,
   "id": "abe0c3c8-d9c8-4563-a24d-8603d3d4f4b6",
   "metadata": {},
   "outputs": [],
   "source": [
    "# Get all image ids\n",
    "image_ids = coco.getImgIds()\n",
    "print(image_ids)"
   ]
  },
  {
   "cell_type": "code",
   "execution_count": 4,
   "id": "39145399-58ee-451e-88cb-aa2f3c094967",
   "metadata": {},
   "outputs": [
    {
     "ename": "NameError",
     "evalue": "name 'data' is not defined",
     "output_type": "error",
     "traceback": [
      "\u001b[0;31m---------------------------------------------------------------------------\u001b[0m",
      "\u001b[0;31mNameError\u001b[0m                                 Traceback (most recent call last)",
      "Cell \u001b[0;32mIn[4], line 2\u001b[0m\n\u001b[1;32m      1\u001b[0m \u001b[38;5;66;03m# Loop through each row in the CSV\u001b[39;00m\n\u001b[0;32m----> 2\u001b[0m \u001b[38;5;28;01mfor\u001b[39;00m index, row \u001b[38;5;129;01min\u001b[39;00m \u001b[43mdata\u001b[49m\u001b[38;5;241m.\u001b[39miterrows():\n\u001b[1;32m      3\u001b[0m     mask_name \u001b[38;5;241m=\u001b[39m row[\u001b[38;5;124m\"\u001b[39m\u001b[38;5;124mmask_name\u001b[39m\u001b[38;5;124m\"\u001b[39m]\n\u001b[1;32m      4\u001b[0m     mask_path \u001b[38;5;241m=\u001b[39m os\u001b[38;5;241m.\u001b[39mpath\u001b[38;5;241m.\u001b[39mjoin(mask_directory, mask_name)\n",
      "\u001b[0;31mNameError\u001b[0m: name 'data' is not defined"
     ]
    }
   ],
   "source": [
    "# Loop through each row in the CSV\n",
    "for index, row in data.iterrows():\n",
    "    mask_name = row[\"mask_name\"]\n",
    "    mask_path = os.path.join(mask_directory, mask_name)\n",
    "\n",
    "    # Check if the image exists\n",
    "    if os.path.exists(mask_path):\n",
    "        # Open the image\n",
    "        mask = Image.open(mask_path)\n",
    "\n",
    "        # Create a new figure for each image to avoid overlapping plots\n",
    "        plt.figure(figsize=(8, 8))\n",
    "        \n",
    "        # Plot the image\n",
    "        plt.imshow(mask)\n",
    "\n",
    "        # Extract coordinates\n",
    "        Lx0, Ly0, Lx1, Ly1 = row[\"Lx0\"], row[\"Ly0\"], row[\"Lx1\"], row[\"Ly1\"]\n",
    "\n",
    "        # Plot the coordinates\n",
    "        plt.plot(\n",
    "            [Lx0, Lx1],\n",
    "            [Ly0, Ly1],\n",
    "            marker=\"o\",\n",
    "            color=\"red\",\n",
    "            linestyle=\"-\",\n",
    "            linewidth=2,\n",
    "            markersize=5,\n",
    "        )\n",
    "\n",
    "        # Display the image with points\n",
    "        plt.title(f\"Image: {mask_name}\")\n",
    "        plt.axis(\"off\")  # Hide axes\n",
    "        plt.show()\n",
    "        \n",
    "    else:\n",
    "        print(f\"Image {mask_name} not found in folder.\")\n",
    "        print(mask_path)\n"
   ]
  },
  {
   "cell_type": "code",
   "execution_count": 5,
   "id": "c0ad34a2-c44d-4f97-b1d0-75edaed11154",
   "metadata": {},
   "outputs": [
    {
     "ename": "NameError",
     "evalue": "name 'image_ids' is not defined",
     "output_type": "error",
     "traceback": [
      "\u001b[0;31m---------------------------------------------------------------------------\u001b[0m",
      "\u001b[0;31mNameError\u001b[0m                                 Traceback (most recent call last)",
      "Cell \u001b[0;32mIn[5], line 2\u001b[0m\n\u001b[1;32m      1\u001b[0m \u001b[38;5;66;03m# Loops over images to get metadata\u001b[39;00m\n\u001b[0;32m----> 2\u001b[0m \u001b[38;5;28;01mfor\u001b[39;00m img_id \u001b[38;5;129;01min\u001b[39;00m \u001b[43mimage_ids\u001b[49m:\n\u001b[1;32m      3\u001b[0m     img_info \u001b[38;5;241m=\u001b[39m coco\u001b[38;5;241m.\u001b[39mloadImgs(img_id)[\u001b[38;5;241m0\u001b[39m]  \u001b[38;5;66;03m# Receive Image ID's\u001b[39;00m\n\u001b[1;32m      4\u001b[0m     img_name \u001b[38;5;241m=\u001b[39m os\u001b[38;5;241m.\u001b[39mpath\u001b[38;5;241m.\u001b[39msplitext(img_info[\u001b[38;5;124m'\u001b[39m\u001b[38;5;124mfile_name\u001b[39m\u001b[38;5;124m'\u001b[39m])[\u001b[38;5;241m0\u001b[39m]  \u001b[38;5;66;03m# Receive Image names and strip .extension\u001b[39;00m\n",
      "\u001b[0;31mNameError\u001b[0m: name 'image_ids' is not defined"
     ]
    }
   ],
   "source": [
    "# Loops over images to get metadata\n",
    "for img_id in image_ids:\n",
    "    img_info = coco.loadImgs(img_id)[0]  # Receive Image ID's\n",
    "    img_name = os.path.splitext(img_info['file_name'])[0]  # Receive Image names and strip .extension\n",
    "    ann_ids = coco.getAnnIds(imgIds=img_id)  # Receive Annotation ID's\n",
    "    anns = coco.loadAnns(ann_ids)  # Load the received Annotation ID's\n",
    "\n",
    "    # Initialize an empty mask for the entire image (with the same dimensions as the image)\n",
    "    full_mask = np.zeros((img_info['height'], img_info['width']), dtype=np.uint8)\n",
    "\n",
    "    # Loops over annotations in each image    \n",
    "    for ann in anns:\n",
    "        segmentation = ann['segmentation']\n",
    "        \n",
    "        if isinstance(segmentation, list):  # Polygon format\n",
    "            mask = np.zeros((img_info['height'], img_info['width']), dtype=np.uint8)\n",
    "            # Convert polygons to a mask\n",
    "            for poly in segmentation:\n",
    "                poly = np.array(poly).reshape((-1, 2))  # Reshape to (N, 2)\n",
    "                cv2.fillPoly(mask, [np.int32(poly)], 1)  # Fill the polygon with 1's\n",
    "\n",
    "        elif isinstance(segmentation, dict) and 'counts' in segmentation:  # RLE format\n",
    "            rle = segmentation\n",
    "            if isinstance(rle['counts'], list):  # Uncompressed RLE\n",
    "                rle = maskUtils.frPyObjects([rle], img_info['height'], img_info['width'])\n",
    "            mask = maskUtils.decode(rle)  # Decode RLE to binary mask\n",
    "\n",
    "        else:\n",
    "            continue  # Skip if segmentation format is not recognized\n",
    "\n",
    "        # Ensure mask has the same shape as full_mask by removing the extra dimension if necessary\n",
    "        if len(mask.shape) == 3 and mask.shape[2] == 1:\n",
    "            mask = np.squeeze(mask, axis=2)  # Remove the third dimension\n",
    "\n",
    "        # Combine the individual mask with the full mask (add the masks together)\n",
    "        full_mask = np.maximum(full_mask, mask)  # Ensures the combination of all masks\n",
    "    \n",
    "    # Choose a color for the mask (RGB format, e.g., red (255, 0, 0))\n",
    "    mask_color = (255, 0, 0)  # Red color for the mask, you can change it to any RGB color\n",
    "\n",
    "    # Apply the color to the combined binary mask\n",
    "    colored_mask = apply_color_mask(full_mask, mask_color)\n",
    "\n",
    "    # Display the colored mask with all annotations combined\n",
    "    # plt.figure(figsize=(10, 10))\n",
    "    # plt.imshow(colored_mask)\n",
    "    # plt.axis('on')\n",
    "    # plt.show()\n",
    "\n",
    "    # Save the colored mask\n",
    "    mask_filename = os.path.join(mask_directory, f\"mask_{img_name}_{img_id}.png\")\n",
    "    # cv2.imwrite(mask_filename, colored_mask)  # Save the mask as an RGB image\n",
    "    print(f\"Image name: {img_name} | Image ID: {img_id} | Anno ID: {ann_ids} as {mask_filename}\")"
   ]
  },
  {
   "cell_type": "code",
   "execution_count": null,
   "id": "7382e909-8870-4c70-a209-53f5f6182f2c",
   "metadata": {},
   "outputs": [],
   "source": []
  },
  {
   "cell_type": "code",
   "execution_count": null,
   "id": "ae4f92bf-5498-4f7f-af08-c092c3183b80",
   "metadata": {},
   "outputs": [],
   "source": []
  },
  {
   "cell_type": "code",
   "execution_count": null,
   "id": "96148b67-efcb-4060-b7f3-82c463f65c7c",
   "metadata": {},
   "outputs": [],
   "source": []
  }
 ],
 "metadata": {
  "kernelspec": {
   "display_name": "Python (venv)",
   "language": "python",
   "name": "venv"
  },
  "language_info": {
   "codemirror_mode": {
    "name": "ipython",
    "version": 3
   },
   "file_extension": ".py",
   "mimetype": "text/x-python",
   "name": "python",
   "nbconvert_exporter": "python",
   "pygments_lexer": "ipython3",
   "version": "3.10.12"
  }
 },
 "nbformat": 4,
 "nbformat_minor": 5
}
